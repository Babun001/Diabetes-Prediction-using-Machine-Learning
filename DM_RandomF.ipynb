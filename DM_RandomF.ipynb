{
 "cells": [
  {
   "cell_type": "code",
   "execution_count": 87,
   "metadata": {},
   "outputs": [],
   "source": [
    "import pandas as pd\n",
    "import numpy as np\n",
    "import matplotlib.pyplot as plt\n",
    "import seaborn as sns"
   ]
  },
  {
   "cell_type": "code",
   "execution_count": 88,
   "metadata": {},
   "outputs": [
    {
     "data": {
      "text/html": [
       "<div>\n",
       "<style scoped>\n",
       "    .dataframe tbody tr th:only-of-type {\n",
       "        vertical-align: middle;\n",
       "    }\n",
       "\n",
       "    .dataframe tbody tr th {\n",
       "        vertical-align: top;\n",
       "    }\n",
       "\n",
       "    .dataframe thead th {\n",
       "        text-align: right;\n",
       "    }\n",
       "</style>\n",
       "<table border=\"1\" class=\"dataframe\">\n",
       "  <thead>\n",
       "    <tr style=\"text-align: right;\">\n",
       "      <th></th>\n",
       "      <th>Unnamed: 0</th>\n",
       "      <th>Pregnancies</th>\n",
       "      <th>Glucose</th>\n",
       "      <th>BloodPressure</th>\n",
       "      <th>SkinThickness</th>\n",
       "      <th>Insulin</th>\n",
       "      <th>BMI</th>\n",
       "      <th>DiabetesPedigreeFunction</th>\n",
       "      <th>Age</th>\n",
       "      <th>Outcome</th>\n",
       "    </tr>\n",
       "  </thead>\n",
       "  <tbody>\n",
       "    <tr>\n",
       "      <th>0</th>\n",
       "      <td>0</td>\n",
       "      <td>6</td>\n",
       "      <td>148</td>\n",
       "      <td>72</td>\n",
       "      <td>35</td>\n",
       "      <td>0</td>\n",
       "      <td>33.6</td>\n",
       "      <td>0.627</td>\n",
       "      <td>50</td>\n",
       "      <td>1</td>\n",
       "    </tr>\n",
       "    <tr>\n",
       "      <th>1</th>\n",
       "      <td>1</td>\n",
       "      <td>1</td>\n",
       "      <td>85</td>\n",
       "      <td>66</td>\n",
       "      <td>29</td>\n",
       "      <td>0</td>\n",
       "      <td>26.6</td>\n",
       "      <td>0.351</td>\n",
       "      <td>31</td>\n",
       "      <td>0</td>\n",
       "    </tr>\n",
       "    <tr>\n",
       "      <th>2</th>\n",
       "      <td>2</td>\n",
       "      <td>8</td>\n",
       "      <td>183</td>\n",
       "      <td>64</td>\n",
       "      <td>0</td>\n",
       "      <td>0</td>\n",
       "      <td>23.3</td>\n",
       "      <td>0.672</td>\n",
       "      <td>32</td>\n",
       "      <td>1</td>\n",
       "    </tr>\n",
       "    <tr>\n",
       "      <th>3</th>\n",
       "      <td>3</td>\n",
       "      <td>1</td>\n",
       "      <td>89</td>\n",
       "      <td>66</td>\n",
       "      <td>23</td>\n",
       "      <td>94</td>\n",
       "      <td>28.1</td>\n",
       "      <td>0.167</td>\n",
       "      <td>21</td>\n",
       "      <td>0</td>\n",
       "    </tr>\n",
       "    <tr>\n",
       "      <th>4</th>\n",
       "      <td>5</td>\n",
       "      <td>5</td>\n",
       "      <td>116</td>\n",
       "      <td>74</td>\n",
       "      <td>0</td>\n",
       "      <td>0</td>\n",
       "      <td>25.6</td>\n",
       "      <td>0.201</td>\n",
       "      <td>30</td>\n",
       "      <td>0</td>\n",
       "    </tr>\n",
       "  </tbody>\n",
       "</table>\n",
       "</div>"
      ],
      "text/plain": [
       "   Unnamed: 0  Pregnancies  Glucose  BloodPressure  SkinThickness  Insulin  \\\n",
       "0           0            6      148             72             35        0   \n",
       "1           1            1       85             66             29        0   \n",
       "2           2            8      183             64              0        0   \n",
       "3           3            1       89             66             23       94   \n",
       "4           5            5      116             74              0        0   \n",
       "\n",
       "    BMI  DiabetesPedigreeFunction  Age  Outcome  \n",
       "0  33.6                     0.627   50        1  \n",
       "1  26.6                     0.351   31        0  \n",
       "2  23.3                     0.672   32        1  \n",
       "3  28.1                     0.167   21        0  \n",
       "4  25.6                     0.201   30        0  "
      ]
     },
     "execution_count": 88,
     "metadata": {},
     "output_type": "execute_result"
    }
   ],
   "source": [
    "diabetes_dataframe = pd.read_csv('./Diabetes dataset/Clean_diabetes_dataset.csv')\n",
    "diabetes_dataframe.head(5)"
   ]
  },
  {
   "cell_type": "code",
   "execution_count": 89,
   "metadata": {},
   "outputs": [
    {
     "data": {
      "text/html": [
       "<div>\n",
       "<style scoped>\n",
       "    .dataframe tbody tr th:only-of-type {\n",
       "        vertical-align: middle;\n",
       "    }\n",
       "\n",
       "    .dataframe tbody tr th {\n",
       "        vertical-align: top;\n",
       "    }\n",
       "\n",
       "    .dataframe thead th {\n",
       "        text-align: right;\n",
       "    }\n",
       "</style>\n",
       "<table border=\"1\" class=\"dataframe\">\n",
       "  <thead>\n",
       "    <tr style=\"text-align: right;\">\n",
       "      <th></th>\n",
       "      <th>Unnamed: 0</th>\n",
       "      <th>Pregnancies</th>\n",
       "      <th>Glucose</th>\n",
       "      <th>BloodPressure</th>\n",
       "      <th>SkinThickness</th>\n",
       "      <th>Insulin</th>\n",
       "      <th>BMI</th>\n",
       "      <th>DiabetesPedigreeFunction</th>\n",
       "      <th>Age</th>\n",
       "      <th>Outcome</th>\n",
       "    </tr>\n",
       "  </thead>\n",
       "  <tbody>\n",
       "    <tr>\n",
       "      <th>Unnamed: 0</th>\n",
       "      <td>1.000000</td>\n",
       "      <td>-0.036976</td>\n",
       "      <td>0.015439</td>\n",
       "      <td>0.028201</td>\n",
       "      <td>0.035387</td>\n",
       "      <td>0.033558</td>\n",
       "      <td>0.038722</td>\n",
       "      <td>-0.011275</td>\n",
       "      <td>0.019538</td>\n",
       "      <td>-0.028682</td>\n",
       "    </tr>\n",
       "    <tr>\n",
       "      <th>Pregnancies</th>\n",
       "      <td>-0.036976</td>\n",
       "      <td>1.000000</td>\n",
       "      <td>0.142093</td>\n",
       "      <td>0.210666</td>\n",
       "      <td>-0.094425</td>\n",
       "      <td>-0.114510</td>\n",
       "      <td>0.036958</td>\n",
       "      <td>0.009289</td>\n",
       "      <td>0.567438</td>\n",
       "      <td>0.227987</td>\n",
       "    </tr>\n",
       "    <tr>\n",
       "      <th>Glucose</th>\n",
       "      <td>0.015439</td>\n",
       "      <td>0.142093</td>\n",
       "      <td>1.000000</td>\n",
       "      <td>0.238754</td>\n",
       "      <td>-0.004609</td>\n",
       "      <td>0.248225</td>\n",
       "      <td>0.192504</td>\n",
       "      <td>0.066530</td>\n",
       "      <td>0.286682</td>\n",
       "      <td>0.492740</td>\n",
       "    </tr>\n",
       "    <tr>\n",
       "      <th>BloodPressure</th>\n",
       "      <td>0.028201</td>\n",
       "      <td>0.210666</td>\n",
       "      <td>0.238754</td>\n",
       "      <td>1.000000</td>\n",
       "      <td>0.037388</td>\n",
       "      <td>-0.041513</td>\n",
       "      <td>0.303301</td>\n",
       "      <td>0.024290</td>\n",
       "      <td>0.354036</td>\n",
       "      <td>0.183298</td>\n",
       "    </tr>\n",
       "    <tr>\n",
       "      <th>SkinThickness</th>\n",
       "      <td>0.035387</td>\n",
       "      <td>-0.094425</td>\n",
       "      <td>-0.004609</td>\n",
       "      <td>0.037388</td>\n",
       "      <td>1.000000</td>\n",
       "      <td>0.487566</td>\n",
       "      <td>0.390340</td>\n",
       "      <td>0.148486</td>\n",
       "      <td>-0.143376</td>\n",
       "      <td>0.030676</td>\n",
       "    </tr>\n",
       "    <tr>\n",
       "      <th>Insulin</th>\n",
       "      <td>0.033558</td>\n",
       "      <td>-0.114510</td>\n",
       "      <td>0.248225</td>\n",
       "      <td>-0.041513</td>\n",
       "      <td>0.487566</td>\n",
       "      <td>1.000000</td>\n",
       "      <td>0.188635</td>\n",
       "      <td>0.213191</td>\n",
       "      <td>-0.089535</td>\n",
       "      <td>0.097746</td>\n",
       "    </tr>\n",
       "    <tr>\n",
       "      <th>BMI</th>\n",
       "      <td>0.038722</td>\n",
       "      <td>0.036958</td>\n",
       "      <td>0.192504</td>\n",
       "      <td>0.303301</td>\n",
       "      <td>0.390340</td>\n",
       "      <td>0.188635</td>\n",
       "      <td>1.000000</td>\n",
       "      <td>0.144757</td>\n",
       "      <td>0.063370</td>\n",
       "      <td>0.269371</td>\n",
       "    </tr>\n",
       "    <tr>\n",
       "      <th>DiabetesPedigreeFunction</th>\n",
       "      <td>-0.011275</td>\n",
       "      <td>0.009289</td>\n",
       "      <td>0.066530</td>\n",
       "      <td>0.024290</td>\n",
       "      <td>0.148486</td>\n",
       "      <td>0.213191</td>\n",
       "      <td>0.144757</td>\n",
       "      <td>1.000000</td>\n",
       "      <td>0.030081</td>\n",
       "      <td>0.179072</td>\n",
       "    </tr>\n",
       "    <tr>\n",
       "      <th>Age</th>\n",
       "      <td>0.019538</td>\n",
       "      <td>0.567438</td>\n",
       "      <td>0.286682</td>\n",
       "      <td>0.354036</td>\n",
       "      <td>-0.143376</td>\n",
       "      <td>-0.089535</td>\n",
       "      <td>0.063370</td>\n",
       "      <td>0.030081</td>\n",
       "      <td>1.000000</td>\n",
       "      <td>0.263344</td>\n",
       "    </tr>\n",
       "    <tr>\n",
       "      <th>Outcome</th>\n",
       "      <td>-0.028682</td>\n",
       "      <td>0.227987</td>\n",
       "      <td>0.492740</td>\n",
       "      <td>0.183298</td>\n",
       "      <td>0.030676</td>\n",
       "      <td>0.097746</td>\n",
       "      <td>0.269371</td>\n",
       "      <td>0.179072</td>\n",
       "      <td>0.263344</td>\n",
       "      <td>1.000000</td>\n",
       "    </tr>\n",
       "  </tbody>\n",
       "</table>\n",
       "</div>"
      ],
      "text/plain": [
       "                          Unnamed: 0  Pregnancies   Glucose  BloodPressure  \\\n",
       "Unnamed: 0                  1.000000    -0.036976  0.015439       0.028201   \n",
       "Pregnancies                -0.036976     1.000000  0.142093       0.210666   \n",
       "Glucose                     0.015439     0.142093  1.000000       0.238754   \n",
       "BloodPressure               0.028201     0.210666  0.238754       1.000000   \n",
       "SkinThickness               0.035387    -0.094425 -0.004609       0.037388   \n",
       "Insulin                     0.033558    -0.114510  0.248225      -0.041513   \n",
       "BMI                         0.038722     0.036958  0.192504       0.303301   \n",
       "DiabetesPedigreeFunction   -0.011275     0.009289  0.066530       0.024290   \n",
       "Age                         0.019538     0.567438  0.286682       0.354036   \n",
       "Outcome                    -0.028682     0.227987  0.492740       0.183298   \n",
       "\n",
       "                          SkinThickness   Insulin       BMI  \\\n",
       "Unnamed: 0                     0.035387  0.033558  0.038722   \n",
       "Pregnancies                   -0.094425 -0.114510  0.036958   \n",
       "Glucose                       -0.004609  0.248225  0.192504   \n",
       "BloodPressure                  0.037388 -0.041513  0.303301   \n",
       "SkinThickness                  1.000000  0.487566  0.390340   \n",
       "Insulin                        0.487566  1.000000  0.188635   \n",
       "BMI                            0.390340  0.188635  1.000000   \n",
       "DiabetesPedigreeFunction       0.148486  0.213191  0.144757   \n",
       "Age                           -0.143376 -0.089535  0.063370   \n",
       "Outcome                        0.030676  0.097746  0.269371   \n",
       "\n",
       "                          DiabetesPedigreeFunction       Age   Outcome  \n",
       "Unnamed: 0                               -0.011275  0.019538 -0.028682  \n",
       "Pregnancies                               0.009289  0.567438  0.227987  \n",
       "Glucose                                   0.066530  0.286682  0.492740  \n",
       "BloodPressure                             0.024290  0.354036  0.183298  \n",
       "SkinThickness                             0.148486 -0.143376  0.030676  \n",
       "Insulin                                   0.213191 -0.089535  0.097746  \n",
       "BMI                                       0.144757  0.063370  0.269371  \n",
       "DiabetesPedigreeFunction                  1.000000  0.030081  0.179072  \n",
       "Age                                       0.030081  1.000000  0.263344  \n",
       "Outcome                                   0.179072  0.263344  1.000000  "
      ]
     },
     "execution_count": 89,
     "metadata": {},
     "output_type": "execute_result"
    }
   ],
   "source": [
    "# checking co-relationn \n",
    "corr_matrix = diabetes_dataframe.corr()\n",
    "corr_matrix"
   ]
  },
  {
   "cell_type": "code",
   "execution_count": 90,
   "metadata": {},
   "outputs": [
    {
     "data": {
      "text/plain": [
       "Unnamed: 0                   -2.868235\n",
       "Pregnancies                  22.798663\n",
       "Glucose                      49.274005\n",
       "BloodPressure                18.329784\n",
       "SkinThickness                 3.067563\n",
       "Insulin                       9.774559\n",
       "BMI                          26.937130\n",
       "DiabetesPedigreeFunction     17.907250\n",
       "Age                          26.334387\n",
       "Outcome                     100.000000\n",
       "Name: Outcome, dtype: float64"
      ]
     },
     "execution_count": 90,
     "metadata": {},
     "output_type": "execute_result"
    }
   ],
   "source": [
    "corr_matrix['Outcome']*100"
   ]
  },
  {
   "cell_type": "code",
   "execution_count": 91,
   "metadata": {},
   "outputs": [],
   "source": [
    "diabetes_dataframe.drop(columns = ['Unnamed: 0','SkinThickness','Insulin','DiabetesPedigreeFunction'], inplace=True)"
   ]
  },
  {
   "cell_type": "code",
   "execution_count": 92,
   "metadata": {},
   "outputs": [
    {
     "data": {
      "text/html": [
       "<div>\n",
       "<style scoped>\n",
       "    .dataframe tbody tr th:only-of-type {\n",
       "        vertical-align: middle;\n",
       "    }\n",
       "\n",
       "    .dataframe tbody tr th {\n",
       "        vertical-align: top;\n",
       "    }\n",
       "\n",
       "    .dataframe thead th {\n",
       "        text-align: right;\n",
       "    }\n",
       "</style>\n",
       "<table border=\"1\" class=\"dataframe\">\n",
       "  <thead>\n",
       "    <tr style=\"text-align: right;\">\n",
       "      <th></th>\n",
       "      <th>Pregnancies</th>\n",
       "      <th>Glucose</th>\n",
       "      <th>BloodPressure</th>\n",
       "      <th>BMI</th>\n",
       "      <th>Age</th>\n",
       "      <th>Outcome</th>\n",
       "    </tr>\n",
       "  </thead>\n",
       "  <tbody>\n",
       "    <tr>\n",
       "      <th>0</th>\n",
       "      <td>6</td>\n",
       "      <td>148</td>\n",
       "      <td>72</td>\n",
       "      <td>33.6</td>\n",
       "      <td>50</td>\n",
       "      <td>1</td>\n",
       "    </tr>\n",
       "    <tr>\n",
       "      <th>1</th>\n",
       "      <td>1</td>\n",
       "      <td>85</td>\n",
       "      <td>66</td>\n",
       "      <td>26.6</td>\n",
       "      <td>31</td>\n",
       "      <td>0</td>\n",
       "    </tr>\n",
       "    <tr>\n",
       "      <th>2</th>\n",
       "      <td>8</td>\n",
       "      <td>183</td>\n",
       "      <td>64</td>\n",
       "      <td>23.3</td>\n",
       "      <td>32</td>\n",
       "      <td>1</td>\n",
       "    </tr>\n",
       "    <tr>\n",
       "      <th>3</th>\n",
       "      <td>1</td>\n",
       "      <td>89</td>\n",
       "      <td>66</td>\n",
       "      <td>28.1</td>\n",
       "      <td>21</td>\n",
       "      <td>0</td>\n",
       "    </tr>\n",
       "    <tr>\n",
       "      <th>4</th>\n",
       "      <td>5</td>\n",
       "      <td>116</td>\n",
       "      <td>74</td>\n",
       "      <td>25.6</td>\n",
       "      <td>30</td>\n",
       "      <td>0</td>\n",
       "    </tr>\n",
       "  </tbody>\n",
       "</table>\n",
       "</div>"
      ],
      "text/plain": [
       "   Pregnancies  Glucose  BloodPressure   BMI  Age  Outcome\n",
       "0            6      148             72  33.6   50        1\n",
       "1            1       85             66  26.6   31        0\n",
       "2            8      183             64  23.3   32        1\n",
       "3            1       89             66  28.1   21        0\n",
       "4            5      116             74  25.6   30        0"
      ]
     },
     "execution_count": 92,
     "metadata": {},
     "output_type": "execute_result"
    }
   ],
   "source": [
    "diabetes_dataframe.head(5)"
   ]
  },
  {
   "cell_type": "code",
   "execution_count": 93,
   "metadata": {},
   "outputs": [
    {
     "data": {
      "text/html": [
       "<div>\n",
       "<style scoped>\n",
       "    .dataframe tbody tr th:only-of-type {\n",
       "        vertical-align: middle;\n",
       "    }\n",
       "\n",
       "    .dataframe tbody tr th {\n",
       "        vertical-align: top;\n",
       "    }\n",
       "\n",
       "    .dataframe thead th {\n",
       "        text-align: right;\n",
       "    }\n",
       "</style>\n",
       "<table border=\"1\" class=\"dataframe\">\n",
       "  <thead>\n",
       "    <tr style=\"text-align: right;\">\n",
       "      <th></th>\n",
       "      <th>Pregnancies</th>\n",
       "      <th>Glucose</th>\n",
       "      <th>BloodPressure</th>\n",
       "      <th>BMI</th>\n",
       "      <th>Age</th>\n",
       "    </tr>\n",
       "  </thead>\n",
       "  <tbody>\n",
       "    <tr>\n",
       "      <th>0</th>\n",
       "      <td>6</td>\n",
       "      <td>148</td>\n",
       "      <td>72</td>\n",
       "      <td>33.6</td>\n",
       "      <td>50</td>\n",
       "    </tr>\n",
       "    <tr>\n",
       "      <th>1</th>\n",
       "      <td>1</td>\n",
       "      <td>85</td>\n",
       "      <td>66</td>\n",
       "      <td>26.6</td>\n",
       "      <td>31</td>\n",
       "    </tr>\n",
       "    <tr>\n",
       "      <th>2</th>\n",
       "      <td>8</td>\n",
       "      <td>183</td>\n",
       "      <td>64</td>\n",
       "      <td>23.3</td>\n",
       "      <td>32</td>\n",
       "    </tr>\n",
       "    <tr>\n",
       "      <th>3</th>\n",
       "      <td>1</td>\n",
       "      <td>89</td>\n",
       "      <td>66</td>\n",
       "      <td>28.1</td>\n",
       "      <td>21</td>\n",
       "    </tr>\n",
       "    <tr>\n",
       "      <th>4</th>\n",
       "      <td>5</td>\n",
       "      <td>116</td>\n",
       "      <td>74</td>\n",
       "      <td>25.6</td>\n",
       "      <td>30</td>\n",
       "    </tr>\n",
       "  </tbody>\n",
       "</table>\n",
       "</div>"
      ],
      "text/plain": [
       "   Pregnancies  Glucose  BloodPressure   BMI  Age\n",
       "0            6      148             72  33.6   50\n",
       "1            1       85             66  26.6   31\n",
       "2            8      183             64  23.3   32\n",
       "3            1       89             66  28.1   21\n",
       "4            5      116             74  25.6   30"
      ]
     },
     "execution_count": 93,
     "metadata": {},
     "output_type": "execute_result"
    }
   ],
   "source": [
    "X = diabetes_dataframe.drop(['Outcome'], axis='columns')\n",
    "X.head(5)"
   ]
  },
  {
   "cell_type": "code",
   "execution_count": 94,
   "metadata": {},
   "outputs": [
    {
     "data": {
      "text/plain": [
       "0    1\n",
       "1    0\n",
       "2    1\n",
       "3    0\n",
       "4    0\n",
       "Name: Outcome, dtype: int64"
      ]
     },
     "execution_count": 94,
     "metadata": {},
     "output_type": "execute_result"
    }
   ],
   "source": [
    "y = diabetes_dataframe.Outcome\n",
    "y.head(5)"
   ]
  },
  {
   "cell_type": "code",
   "execution_count": 95,
   "metadata": {},
   "outputs": [
    {
     "data": {
      "text/plain": [
       "128"
      ]
     },
     "execution_count": 95,
     "metadata": {},
     "output_type": "execute_result"
    }
   ],
   "source": [
    "from sklearn.model_selection import train_test_split\n",
    "X_train, X_test, y_train, y_test = train_test_split(X,y,random_state=42,test_size=0.2)\n",
    "len(X_train) # 511\n",
    "len(X_test)  # 128"
   ]
  },
  {
   "cell_type": "code",
   "execution_count": 96,
   "metadata": {},
   "outputs": [
    {
     "data": {
      "text/plain": [
       "((25, 'log_loss', 'sqrt'), 83.59375)"
      ]
     },
     "execution_count": 96,
     "metadata": {},
     "output_type": "execute_result"
    }
   ],
   "source": [
    "from sklearn.ensemble import RandomForestClassifier\n",
    "Score = {}\n",
    "n_estimators = [10,25,50,75,100,125,150]\n",
    "criterion = ['gini', 'entropy', 'log_loss']\n",
    "max_features = ['sqrt', 'log2']\n",
    "for n in n_estimators:\n",
    "    for c in criterion:\n",
    "        for mf in max_features:\n",
    "            model = RandomForestClassifier(n_estimators=n,criterion=c,max_features=mf)\n",
    "            model.fit(X_train,y_train)\n",
    "            acc = model.score(X_test,y_test)*100\n",
    "            Score[n,c,mf] = acc\n",
    "            \n",
    "max(Score.values()) # 83.59375\n",
    "tunedVal = max(Score,key=Score.get)\n",
    "tunedVal,max(Score.values())"
   ]
  },
  {
   "cell_type": "code",
   "execution_count": 97,
   "metadata": {},
   "outputs": [
    {
     "data": {
      "text/plain": [
       "83.59375"
      ]
     },
     "execution_count": 97,
     "metadata": {},
     "output_type": "execute_result"
    }
   ],
   "source": [
    "\n",
    "model = RandomForestClassifier(n_estimators=25,criterion='gini',max_features='log2')\n",
    "model.fit(X_train,y_train)\n",
    "model.score(X_test,y_test)*100 # after cleaning -> 74.02597402597402 before cleaning ->79.6875 after tuning -> 83.59375"
   ]
  },
  {
   "cell_type": "code",
   "execution_count": 101,
   "metadata": {},
   "outputs": [],
   "source": [
    "y_pre = model.predict(X_test)"
   ]
  },
  {
   "cell_type": "code",
   "execution_count": 99,
   "metadata": {},
   "outputs": [
    {
     "data": {
      "text/plain": [
       "array([[82, 10],\n",
       "       [11, 25]], dtype=int64)"
      ]
     },
     "execution_count": 99,
     "metadata": {},
     "output_type": "execute_result"
    }
   ],
   "source": [
    "from sklearn.metrics import confusion_matrix\n",
    "cn = confusion_matrix(y_test, y_pre)\n",
    "cn"
   ]
  },
  {
   "cell_type": "code",
   "execution_count": 100,
   "metadata": {},
   "outputs": [
    {
     "data": {
      "text/plain": [
       "Text(95.72222222222221, 0.5, 'Truth Values')"
      ]
     },
     "execution_count": 100,
     "metadata": {},
     "output_type": "execute_result"
    },
    {
     "data": {
      "image/png": "[encoded data removed]",
      "text/plain": [
       "<Figure size 1000x500 with 2 Axes>"
      ]
     },
     "metadata": {},
     "output_type": "display_data"
    }
   ],
   "source": [
    "%matplotlib inline\n",
    "plt.figure(figsize=(10,5))\n",
    "sns.heatmap(cn, annot=True)\n",
    "plt.xlabel('Predicted Values')\n",
    "plt.ylabel('Truth Values')"
   ]
  }
 ],
 "metadata": {
  "kernelspec": {
   "display_name": "Python 3",
   "language": "python",
   "name": "python3"
  },
  "language_info": {
   "codemirror_mode": {
    "name": "ipython",
    "version": 3
   },
   "file_extension": ".py",
   "mimetype": "text/x-python",
   "name": "python",
   "nbconvert_exporter": "python",
   "pygments_lexer": "ipython3",
   "version": "3.11.5"
  }
 },
 "nbformat": 4,
 "nbformat_minor": 2
}
